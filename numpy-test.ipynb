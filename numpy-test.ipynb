{
 "cells": [
  {
   "cell_type": "markdown",
   "metadata": {},
   "source": [
    "站点,Lon,Lat,Alti,PRS,TEM,RHU,PRE_1h,D_Avg_2,Avg_2,VIS,PRS_Sea\n",
    "54065, 125.65,  44.53,  169.10,  985.20,    25.30,     79.00,        0.30,     19.00,    2.10,   4000.00,    1004.60\n",
    "58631, 118.50,  28.90,  137.00,  989.70,    27.60,     82.00,        0.00,    109.00,    0.60,   3100.00,    1005.30\n",
    "57671, 112.37,  28.85,   37.00, 1000.90,    25.20,     99.00,        0.00,    346.00,    0.90,   1200.00,    1005.30\n",
    "57845, 109.78,  26.17,  397.50,  960.70,    26.80,     87.00,        0.00,    184.00,    0.90,   7500.00,    1005.00"
   ]
  },
  {
   "cell_type": "markdown",
   "metadata": {},
   "source": []
  },
  {
   "cell_type": "code",
   "execution_count": 1,
   "metadata": {},
   "outputs": [
    {
     "name": "stdout",
     "output_type": "stream",
     "text": [
      "[['绔欑偣' 'Lon' 'Lat' ... 'Avg_2' 'VIS' 'PRS_Sea']\n",
      " ['54065' ' 125.65' '  44.53' ... '    2.10' '   4000.00' '    1004.60']\n",
      " ['58631' ' 118.50' '  28.90' ... '    0.60' '   3100.00' '    1005.30']\n",
      " ...\n",
      " ['59559' ' 120.75' '  22.00' ... '999999.00' '  15000.00' '    1008.10']\n",
      " ['58974' ' 122.07' '  25.63' ... '999999.00' '  30000.00' '    1007.00']\n",
      " ['58968' ' 121.52' '  25.03' ... '999999.00' '  25000.00' '    1006.40']]\n"
     ]
    }
   ],
   "source": [
    "import numpy as np\n",
    "\n",
    "p = r'E:\\Dev\\python\\numpy-test\\202007150000.txt'\n",
    "\n",
    "# 直接读取格式化文本文件\n",
    "npData = np.loadtxt(p,str,delimiter = \",\") \n",
    "print (npData)"
   ]
  },
  {
   "cell_type": "code",
   "execution_count": 2,
   "metadata": {},
   "outputs": [
    {
     "name": "stdout",
     "output_type": "stream",
     "text": [
      "[['站点' 'Lon' 'Lat' ... 'Avg_2' 'VIS' 'PRS_Sea']\n",
      " ['54065' ' 125.65' '  44.53' ... '    2.10' '   4000.00' '    1004.60']\n",
      " ['58631' ' 118.50' '  28.90' ... '    0.60' '   3100.00' '    1005.30']\n",
      " ...\n",
      " ['59559' ' 120.75' '  22.00' ... '999999.00' '  15000.00' '    1008.10']\n",
      " ['58974' ' 122.07' '  25.63' ... '999999.00' '  30000.00' '    1007.00']\n",
      " ['58968' ' 121.52' '  25.03' ... '999999.00' '  25000.00' '    1006.40']]\n"
     ]
    }
   ],
   "source": [
    "# 中文乱码问题\n",
    "with open(p,encoding = 'utf-8') as f:\n",
    "    npData = np.loadtxt(f,str,delimiter = \",\")\n",
    "    print (npData)"
   ]
  },
  {
   "cell_type": "code",
   "execution_count": 3,
   "metadata": {},
   "outputs": [
    {
     "name": "stdout",
     "output_type": "stream",
     "text": [
      "[['54065' ' 125.65' '  44.53' ... '    2.10' '   4000.00' '    1004.60']\n",
      " ['58631' ' 118.50' '  28.90' ... '    0.60' '   3100.00' '    1005.30']\n",
      " ['57671' ' 112.37' '  28.85' ... '    0.90' '   1200.00' '    1005.30']\n",
      " ...\n",
      " ['59559' ' 120.75' '  22.00' ... '999999.00' '  15000.00' '    1008.10']\n",
      " ['58974' ' 122.07' '  25.63' ... '999999.00' '  30000.00' '    1007.00']\n",
      " ['58968' ' 121.52' '  25.03' ... '999999.00' '  25000.00' '    1006.40']]\n"
     ]
    }
   ],
   "source": [
    "#跳过第1行 skiprows = 1\n",
    "with open(p,encoding = 'utf-8') as f:\n",
    "    npData = np.loadtxt(f,str, delimiter = \",\", skiprows = 1)\n",
    "    print (npData)"
   ]
  },
  {
   "cell_type": "code",
   "execution_count": 4,
   "metadata": {},
   "outputs": [
    {
     "name": "stdout",
     "output_type": "stream",
     "text": [
      "[[5.40650e+04 1.25650e+02 4.45300e+01 ... 2.10000e+00 4.00000e+03\n",
      "  1.00460e+03]\n",
      " [5.86310e+04 1.18500e+02 2.89000e+01 ... 6.00000e-01 3.10000e+03\n",
      "  1.00530e+03]\n",
      " [5.76710e+04 1.12370e+02 2.88500e+01 ... 9.00000e-01 1.20000e+03\n",
      "  1.00530e+03]\n",
      " ...\n",
      " [5.95590e+04 1.20750e+02 2.20000e+01 ... 9.99999e+05 1.50000e+04\n",
      "  1.00810e+03]\n",
      " [5.89740e+04 1.22070e+02 2.56300e+01 ... 9.99999e+05 3.00000e+04\n",
      "  1.00700e+03]\n",
      " [5.89680e+04 1.21520e+02 2.50300e+01 ... 9.99999e+05 2.50000e+04\n",
      "  1.00640e+03]]\n"
     ]
    }
   ],
   "source": [
    "# 以float形式 ，float 也是打开的时默认的数据类型\n",
    "with open(p,encoding = 'utf-8') as f:\n",
    "    npData = np.loadtxt(f,float,delimiter = \",\", skiprows = 1)\n",
    "    print (npData)"
   ]
  },
  {
   "cell_type": "code",
   "execution_count": 5,
   "metadata": {},
   "outputs": [
    {
     "name": "stdout",
     "output_type": "stream",
     "text": [
      "<class 'list'>\n",
      "[[5.40650e+04 1.25650e+02 4.45300e+01 ... 2.10000e+00 4.00000e+03\n",
      "  1.00460e+03]\n",
      " [5.86310e+04 1.18500e+02 2.89000e+01 ... 6.00000e-01 3.10000e+03\n",
      "  1.00530e+03]\n",
      " [5.76710e+04 1.12370e+02 2.88500e+01 ... 9.00000e-01 1.20000e+03\n",
      "  1.00530e+03]\n",
      " ...\n",
      " [5.95590e+04 1.20750e+02 2.20000e+01 ... 9.99999e+05 1.50000e+04\n",
      "  1.00810e+03]\n",
      " [5.89740e+04 1.22070e+02 2.56300e+01 ... 9.99999e+05 3.00000e+04\n",
      "  1.00700e+03]\n",
      " [5.89680e+04 1.21520e+02 2.50300e+01 ... 9.99999e+05 2.50000e+04\n",
      "  1.00640e+03]]\n"
     ]
    }
   ],
   "source": [
    "# 载入格式化了的list\n",
    "with open(p, encoding='utf-8') as f:\n",
    "    lines = f.readlines()\n",
    "    headerLines = lines[:1]\n",
    "    dataLines = lines[1:300]\n",
    "    print(type(dataLines))\n",
    "    nfData = np.loadtxt(dataLines,delimiter = \",\") \n",
    "    print (npData)"
   ]
  },
  {
   "cell_type": "code",
   "execution_count": 6,
   "metadata": {},
   "outputs": [
    {
     "name": "stdout",
     "output_type": "stream",
     "text": [
      "[(54065, 125.65, 44.53, 1.69100e+02,  985.2, 25.3, 7.90000e+01, 3.00000e-01, 1.90000e+01, 2.10000e+00,  4000., 1004.6)\n",
      " (58631, 118.5 , 28.9 , 1.37000e+02,  989.7, 27.6, 8.20000e+01, 0.00000e+00, 1.09000e+02, 6.00000e-01,  3100., 1005.3)\n",
      " (57671, 112.37, 28.85, 3.70000e+01, 1000.9, 25.2, 9.90000e+01, 0.00000e+00, 3.46000e+02, 9.00000e-01,  1200., 1005.3)\n",
      " ...\n",
      " (59559, 120.75, 22.  , 9.99999e+05, 1005.3, 26.6, 9.99999e+05, 9.99999e+05, 9.99999e+05, 9.99999e+05, 15000., 1008.1)\n",
      " (58974, 122.07, 25.63, 1.04600e+02,  995.2, 29. , 9.99999e+05, 9.99999e+05, 9.99999e+05, 9.99999e+05, 30000., 1007. )\n",
      " (58968, 121.52, 25.03, 7.10000e+00, 1003. , 31.1, 9.99999e+05, 9.99999e+05, 9.99999e+05, 9.99999e+05, 25000., 1006.4)]\n"
     ]
    }
   ],
   "source": [
    "# 指定每一列的数据类型，结果返回的是一维数组，数组内部为元组\n",
    "# https://numpy.org/doc/1.18/reference/generated/numpy.loadtxt.html\n",
    "with open(p,encoding = 'utf-8') as f:\n",
    "    lines = f.readlines()\n",
    "    header = lines[1]\n",
    "    data = lines[1:]\n",
    "    fields = [name for name in header.split(' ') if name !='']\n",
    "    # 指定第一列为int类型，后面列为float类型\n",
    "    types = ['int'] + ['f4'] * (len(fields) - 1)\n",
    "\n",
    "    npData = np.loadtxt(data,dtype={'names':fields,'formats': types},delimiter = \",\")\n",
    "    print (npData)"
   ]
  },
  {
   "cell_type": "code",
   "execution_count": 7,
   "metadata": {},
   "outputs": [
    {
     "name": "stdout",
     "output_type": "stream",
     "text": [
      "[[5.4065e+04 4.4530e+01]\n",
      " [5.8631e+04 2.8900e+01]\n",
      " [5.7671e+04 2.8850e+01]\n",
      " ...\n",
      " [5.9559e+04 2.2000e+01]\n",
      " [5.8974e+04 2.5630e+01]\n",
      " [5.8968e+04 2.5030e+01]]\n"
     ]
    }
   ],
   "source": [
    "# 读取指定列 usecols\n",
    "npData = np.loadtxt(p,delimiter = \",\", skiprows = 1, usecols=(0, 2))\n",
    "print(npData)"
   ]
  },
  {
   "cell_type": "code",
   "execution_count": 8,
   "metadata": {},
   "outputs": [
    {
     "name": "stdout",
     "output_type": "stream",
     "text": [
      "----------第1列----------\n",
      "[54065. 58631. 57671. ... 59559. 58974. 58968.]\n",
      "----------第2行----------\n",
      "[5.8631e+04 1.1850e+02 2.8900e+01 1.3700e+02 9.8970e+02 2.7600e+01\n",
      " 8.2000e+01 0.0000e+00 1.0900e+02 6.0000e-01 3.1000e+03 1.0053e+03]\n",
      "----------第4行第3列元素----------\n",
      "26.17\n"
     ]
    }
   ],
   "source": [
    "# 切片\n",
    "npData = np.loadtxt(p,delimiter = \",\", skiprows = 1)\n",
    "\n",
    "# 二维数组第一列， \n",
    "col0 = npData[:,0] #索引从0开始\n",
    "print('----------第1列----------')\n",
    "print (col0)\n",
    "\n",
    "# 二维数组第二行\n",
    "row2 = npData[1,:]\n",
    "print('----------第2行----------')\n",
    "print (row2)\n",
    "\n",
    "# 取具体位置的元素\n",
    "n,m = 3,2 \n",
    "item = npData[n,m] # 行索引在前，列索引在后, 第4行第3列元素\n",
    "print('----------第4行第3列元素----------')\n",
    "print(item)"
   ]
  },
  {
   "cell_type": "code",
   "execution_count": 9,
   "metadata": {},
   "outputs": [
    {
     "name": "stdout",
     "output_type": "stream",
     "text": [
      "['  44.53' '  28.90' '  28.85' ... '  22.00' '  25.63' '  25.03']\n",
      "----------str转float----------\n",
      "[44.53 28.9  28.85 ... 22.   25.63 25.03]\n"
     ]
    }
   ],
   "source": [
    "# 数据类型转换\n",
    "\n",
    "npData = np.loadtxt(p,str,delimiter = \",\", skiprows = 1)\n",
    "# 取第3列\n",
    "col2 = npData[:,2]\n",
    "# 将第3列数据转为float32\n",
    "newCol2 = col2.astype(np.float32)\n",
    "print(col2)\n",
    "print('----------str转float----------')\n",
    "print(newCol2)"
   ]
  },
  {
   "cell_type": "code",
   "execution_count": 10,
   "metadata": {},
   "outputs": [
    {
     "name": "stdout",
     "output_type": "stream",
     "text": [
      "[[125.65  44.53]\n",
      " [118.5   28.9 ]\n",
      " [112.37  28.85]\n",
      " ...\n",
      " [120.75  22.  ]\n",
      " [122.07  25.63]\n",
      " [121.52  25.03]]\n"
     ]
    }
   ],
   "source": [
    "# 组合列 c_\n",
    "npData = np.loadtxt(p,delimiter = \",\", skiprows = 1)\n",
    "x = npData[:,1]\n",
    "y = npData[:,2]\n",
    "points = np.c_[x,y]\n",
    "print (points)"
   ]
  },
  {
   "cell_type": "code",
   "execution_count": 11,
   "metadata": {},
   "outputs": [
    {
     "name": "stdout",
     "output_type": "stream",
     "text": [
      "75.25\n",
      "18.65\n",
      "134.42\n",
      "53.47\n"
     ]
    }
   ],
   "source": [
    "# 取最大最小值 min、max\n",
    "minX=np.min(x, axis=0) #axis=0, 获取列最大, axis=1时获取行最大\n",
    "minY=np.min(y, axis=0)\n",
    "maxX=np.max(x, axis=0)\n",
    "maxY=np.max(y, axis=0)\n",
    "print(minX)\n",
    "print(minY)\n",
    "print(maxX)\n",
    "print(maxY)"
   ]
  },
  {
   "cell_type": "code",
   "execution_count": 12,
   "metadata": {},
   "outputs": [
    {
     "name": "stdout",
     "output_type": "stream",
     "text": [
      "[10. 15. 20. 25. 30.]\n",
      "[10.         12.85714286 15.71428571 18.57142857 21.42857143 24.28571429\n",
      " 27.14285714 30.        ]\n"
     ]
    }
   ],
   "source": [
    "# 生成等步长的数组 linspace，linespace第一个参数指定开始数，第二给参数指定结束数，第三给参照指定结果列表的长度\n",
    "r1 = np.linspace(10, 30, 5) \n",
    "r2 = np.linspace(10, 30, 8)\n",
    "\n",
    "print(r1)\n",
    "print(r2)"
   ]
  },
  {
   "cell_type": "code",
   "execution_count": 13,
   "metadata": {},
   "outputs": [
    {
     "name": "stdout",
     "output_type": "stream",
     "text": [
      "[array([[100., 110., 120., 130., 140.],\n",
      "       [100., 110., 120., 130., 140.],\n",
      "       [100., 110., 120., 130., 140.],\n",
      "       [100., 110., 120., 130., 140.],\n",
      "       [100., 110., 120., 130., 140.],\n",
      "       [100., 110., 120., 130., 140.],\n",
      "       [100., 110., 120., 130., 140.],\n",
      "       [100., 110., 120., 130., 140.],\n",
      "       [100., 110., 120., 130., 140.],\n",
      "       [100., 110., 120., 130., 140.]]), array([[30.        , 30.        , 30.        , 30.        , 30.        ],\n",
      "       [33.33333333, 33.33333333, 33.33333333, 33.33333333, 33.33333333],\n",
      "       [36.66666667, 36.66666667, 36.66666667, 36.66666667, 36.66666667],\n",
      "       [40.        , 40.        , 40.        , 40.        , 40.        ],\n",
      "       [43.33333333, 43.33333333, 43.33333333, 43.33333333, 43.33333333],\n",
      "       [46.66666667, 46.66666667, 46.66666667, 46.66666667, 46.66666667],\n",
      "       [50.        , 50.        , 50.        , 50.        , 50.        ],\n",
      "       [53.33333333, 53.33333333, 53.33333333, 53.33333333, 53.33333333],\n",
      "       [56.66666667, 56.66666667, 56.66666667, 56.66666667, 56.66666667],\n",
      "       [60.        , 60.        , 60.        , 60.        , 60.        ]])]\n",
      "----------X----------\n",
      "[[100. 110. 120. 130. 140.]\n",
      " [100. 110. 120. 130. 140.]\n",
      " [100. 110. 120. 130. 140.]\n",
      " [100. 110. 120. 130. 140.]\n",
      " [100. 110. 120. 130. 140.]\n",
      " [100. 110. 120. 130. 140.]\n",
      " [100. 110. 120. 130. 140.]\n",
      " [100. 110. 120. 130. 140.]\n",
      " [100. 110. 120. 130. 140.]\n",
      " [100. 110. 120. 130. 140.]]\n",
      "(10, 5)\n",
      "----------Y----------\n",
      "[[30.         30.         30.         30.         30.        ]\n",
      " [33.33333333 33.33333333 33.33333333 33.33333333 33.33333333]\n",
      " [36.66666667 36.66666667 36.66666667 36.66666667 36.66666667]\n",
      " [40.         40.         40.         40.         40.        ]\n",
      " [43.33333333 43.33333333 43.33333333 43.33333333 43.33333333]\n",
      " [46.66666667 46.66666667 46.66666667 46.66666667 46.66666667]\n",
      " [50.         50.         50.         50.         50.        ]\n",
      " [53.33333333 53.33333333 53.33333333 53.33333333 53.33333333]\n",
      " [56.66666667 56.66666667 56.66666667 56.66666667 56.66666667]\n",
      " [60.         60.         60.         60.         60.        ]]\n",
      "(10, 5)\n",
      "----------网格第3行第4列坐标----------\n",
      "130.0\n",
      "36.666666666666664\n"
     ]
    }
   ],
   "source": [
    "# 构造一个矩阵\n",
    "x = np.linspace(100, 140, 5)\n",
    "y = np.linspace(30, 60, 10)\n",
    "\n",
    "grid = np.meshgrid(x, y)\n",
    "print(grid)\n",
    "\n",
    "X,Y = grid\n",
    "print('----------X----------')\n",
    "print(X)\n",
    "print(X.shape)\n",
    "print('----------Y----------')\n",
    "print(Y)\n",
    "print(Y.shape)\n",
    "\n",
    "print('----------网格第3行第4列坐标----------')\n",
    "xIndex =2\n",
    "yIndex= 3\n",
    "print(X[xIndex,yIndex])\n",
    "print(Y[xIndex,yIndex])"
   ]
  },
  {
   "cell_type": "code",
   "execution_count": 14,
   "metadata": {},
   "outputs": [
    {
     "name": "stdout",
     "output_type": "stream",
     "text": [
      "[1 2 3 4 5 6 7 8 9]\n",
      "----------a中元素统一加1---------\n",
      "[ 2  3  4  5  6  7  8  9 10]\n",
      "----------a中元素统一乘以2---------\n",
      "[ 2  4  6  8 10 12 14 16 18]\n",
      "----------a + b----------\n",
      "[ 2  4  6  8 10 12 14 16 18]\n",
      "[ 3  6  9 12 15 18 21 24 27]\n",
      "----------a - b----------\n",
      "[-1 -2 -3 -4 -5 -6 -7 -8 -9]\n",
      "----------a * b----------\n",
      "[  2   8  18  32  50  72  98 128 162]\n",
      "----------a / b----------\n",
      "[0.5 0.5 0.5 0.5 0.5 0.5 0.5 0.5 0.5]\n",
      "----------二维数组加法----------\n",
      "[[7 4 5 3]\n",
      " [3 1 4 8]\n",
      " [8 6 1 1]\n",
      " [5 4 3 4]]\n",
      "------------\n",
      "[[5 1 5 6]\n",
      " [2 1 4 1]\n",
      " [7 5 7 1]\n",
      " [3 4 4 4]]\n",
      "----------d + e----------\n",
      "[[12  5 10  9]\n",
      " [ 5  2  8  9]\n",
      " [15 11  8  2]\n",
      " [ 8  8  7  8]]\n"
     ]
    }
   ],
   "source": [
    "# 加减乘除\n",
    "a = np.arange(1, 10)\n",
    "print(a)\n",
    "print('----------a中元素统一加1---------')\n",
    "print(a + 1)\n",
    "print('----------a中元素统一乘以2---------')\n",
    "print(a * 2)\n",
    "print('----------a + b----------')\n",
    "b = np.arange(2,20,2)\n",
    "print(b)\n",
    "c = a + b\n",
    "print(c)\n",
    "\n",
    "print('----------a - b----------')\n",
    "c = a - b\n",
    "print(c)\n",
    "\n",
    "print('----------a * b----------')\n",
    "c = a * b\n",
    "print(c)\n",
    "\n",
    "print('----------a / b----------')\n",
    "c = a / b\n",
    "print(c)\n",
    "\n",
    "print('----------二维数组加法----------')\n",
    "d = np.random.randint(1,10,size=(4,4))\n",
    "print(d)\n",
    "print('------------')\n",
    "e = np.random.randint(1,10,size=(4,4))\n",
    "print(e)\n",
    "print('----------d + e----------')\n",
    "print (d+e)\n"
   ]
  },
  {
   "cell_type": "code",
   "execution_count": 15,
   "metadata": {},
   "outputs": [
    {
     "name": "stdout",
     "output_type": "stream",
     "text": [
      "[ 0 30 45 90]\n",
      "----------角度转弧度----------\n",
      "[0.         0.52359878 0.78539816 1.57079633]\n",
      "----------求正弦----------\n",
      "[0.         0.5        0.70710678 1.        ]\n",
      "----------求余弦----------\n",
      "[ 0.54030231 -0.41614684 -0.9899925  -0.65364362  0.28366219  0.96017029\n",
      "  0.75390225 -0.14550003 -0.91113026]\n"
     ]
    }
   ],
   "source": [
    "# 计算三角函数 sin、cos\n",
    "angle = np.array([0, 30, 45, 90])\n",
    "print(angle)\n",
    "\n",
    "# 角度转弧度\n",
    "print('----------角度转弧度----------')\n",
    "rad = np.deg2rad(angle)\n",
    "print(rad)\n",
    "\n",
    "# 求正弦\n",
    "print('----------求正弦----------')\n",
    "sin = np.sin(rad)\n",
    "print(sin)\n",
    "\n",
    "# 求余弦\n",
    "print('----------求余弦----------')\n",
    "cos = np.cos(a)\n",
    "print(cos)"
   ]
  },
  {
   "cell_type": "code",
   "execution_count": 16,
   "metadata": {},
   "outputs": [
    {
     "data": {
      "text/plain": [
       "45"
      ]
     },
     "execution_count": 16,
     "metadata": {},
     "output_type": "execute_result"
    }
   ],
   "source": [
    "# 求和sum\n",
    "t = np.arange(1,10)\n",
    "np.sum(t)"
   ]
  },
  {
   "cell_type": "code",
   "execution_count": 17,
   "metadata": {},
   "outputs": [
    {
     "data": {
      "text/plain": [
       "5.0"
      ]
     },
     "execution_count": 17,
     "metadata": {},
     "output_type": "execute_result"
    }
   ],
   "source": [
    "# 计算均值mean\n",
    "np.mean(t)"
   ]
  },
  {
   "cell_type": "code",
   "execution_count": 18,
   "metadata": {},
   "outputs": [
    {
     "name": "stdout",
     "output_type": "stream",
     "text": [
      "----------随机浮点数----------\n",
      "[[0.822719   0.82149577]\n",
      " [0.25140903 0.83072816]\n",
      " [0.67028644 0.73376812]]\n",
      "----------随机整数----------\n",
      "[[3 4]\n",
      " [3 4]\n",
      " [4 3]]\n"
     ]
    }
   ],
   "source": [
    "# 随机数\n",
    "print('----------随机浮点数----------')\n",
    "a = np.random.rand(3,2)\n",
    "print(a)\n",
    "print('----------随机整数----------')\n",
    "a = np.random.randint(2,5,size=(3,2))\n",
    "print(a)"
   ]
  },
  {
   "cell_type": "code",
   "execution_count": 19,
   "metadata": {},
   "outputs": [
    {
     "name": "stdout",
     "output_type": "stream",
     "text": [
      "[1 2 3 4 5 6 7 8 9]\n"
     ]
    },
    {
     "data": {
      "text/plain": [
       "array([9, 8, 7, 6, 5, 4, 3, 2, 1])"
      ]
     },
     "execution_count": 19,
     "metadata": {},
     "output_type": "execute_result"
    }
   ],
   "source": [
    "# 倒置\n",
    "a = np.arange(1,10)\n",
    "print(a)\n",
    "np.flipud(a)"
   ]
  },
  {
   "cell_type": "code",
   "execution_count": 21,
   "metadata": {},
   "outputs": [
    {
     "name": "stdout",
     "output_type": "stream",
     "text": [
      "[[2 9 4 2 3]\n",
      " [8 9 8 2 9]]\n",
      "----------转置----------\n",
      "[[2 8]\n",
      " [9 9]\n",
      " [4 8]\n",
      " [2 2]\n",
      " [3 9]]\n"
     ]
    }
   ],
   "source": [
    "# 转置\n",
    "a = np.random.randint(1,10, size=(2,5))\n",
    "print(a)\n",
    "print('----------转置----------')\n",
    "b = a.T\n",
    "print(b)"
   ]
  },
  {
   "cell_type": "code",
   "execution_count": null,
   "metadata": {},
   "outputs": [],
   "source": []
  }
 ],
 "metadata": {
  "kernelspec": {
   "display_name": "Python 3",
   "language": "python",
   "name": "python3"
  },
  "language_info": {
   "codemirror_mode": {
    "name": "ipython",
    "version": 3
   },
   "file_extension": ".py",
   "mimetype": "text/x-python",
   "name": "python",
   "nbconvert_exporter": "python",
   "pygments_lexer": "ipython3",
   "version": "3.7.3"
  }
 },
 "nbformat": 4,
 "nbformat_minor": 2
}
